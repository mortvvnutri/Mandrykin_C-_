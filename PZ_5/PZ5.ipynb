{
  "nbformat": 4,
  "nbformat_minor": 0,
  "metadata": {
    "colab": {
      "provenance": [],
      "include_colab_link": true
    },
    "kernelspec": {
      "name": "python3",
      "display_name": "Python 3"
    },
    "language_info": {
      "name": "python"
    }
  },
  "cells": [
    {
      "cell_type": "markdown",
      "metadata": {
        "id": "view-in-github",
        "colab_type": "text"
      },
      "source": [
        "<a href=\"https://colab.research.google.com/github/mortvvnutri/Mandrykin_C-_/blob/main/PZ_5/PZ5.ipynb\" target=\"_parent\"><img src=\"https://colab.research.google.com/assets/colab-badge.svg\" alt=\"Open In Colab\"/></a>"
      ]
    },
    {
      "cell_type": "code",
      "source": [
        "from random import randint\n",
        "import os\n",
        "\n",
        "path = \"Современные ОС.txt\" #файл взят с гугл диска\n",
        "search = chr(32) # код пробела в юникод\n",
        "\n",
        "# Выводит строку с ближайшего символа, удостоверяющего условию поиска\n",
        "with open(path, \"r\", encoding=\"utf8\", errors='ignore') as file:\n",
        "  while True:\n",
        "    num = randint(0, os.path.getsize(path) - 50)\n",
        "    \n",
        "    file.seek(num)\n",
        "    amend = file.readline()\n",
        "    amend = amend.find(search)\n",
        "    \n",
        "    file.seek(num + amend)\n",
        "    \n",
        "    answer = file.readline()\n",
        "    if answer[0] == search:\n",
        "      print(answer)\n",
        "      break;"
      ],
      "metadata": {
        "id": "u-qLFdTgIWQx",
        "colab": {
          "base_uri": "https://localhost:8080/"
        },
        "outputId": "99fb291c-b63c-4142-bd32-388bdc8f6a80"
      },
      "execution_count": 20,
      "outputs": [
        {
          "output_type": "stream",
          "name": "stdout",
          "text": [
            " структур данных Berkeley\n",
            "\n"
          ]
        }
      ]
    }
  ]
}
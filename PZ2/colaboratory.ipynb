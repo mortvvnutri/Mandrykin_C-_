{
  "nbformat": 4,
  "nbformat_minor": 0,
  "metadata": {
    "colab": {
      "provenance": [],
      "collapsed_sections": [],
      "authorship_tag": "ABX9TyPJ8tnVAact+maJaDi8efqC",
      "include_colab_link": true
    },
    "kernelspec": {
      "name": "python3",
      "display_name": "Python 3"
    },
    "language_info": {
      "name": "python"
    }
  },
  "cells": [
    {
      "cell_type": "markdown",
      "metadata": {
        "id": "view-in-github",
        "colab_type": "text"
      },
      "source": [
        "<a href=\"https://colab.research.google.com/github/mortvvnutri/Mandrykin_C-_/blob/main/PZ2/colaboratory.ipynb\" target=\"_parent\"><img src=\"https://colab.research.google.com/assets/colab-badge.svg\" alt=\"Open In Colab\"/></a>"
      ]
    },
    {
      "cell_type": "code",
      "execution_count": 31,
      "metadata": {
        "id": "LzITQn6o5e_k"
      },
      "outputs": [],
      "source": [
        "import threading\n",
        "import time"
      ]
    },
    {
      "cell_type": "code",
      "source": [
        "def prescript(thefile, num):\n",
        "  with open(thefile, 'w') as f:\n",
        "    for i in range(num):\n",
        "      if num > 5:\n",
        "        f.write('Много букв\\n')\n",
        "      else:\n",
        "        f.write('Мало букв\\n')"
      ],
      "metadata": {
        "id": "IXZWojNm6Sev"
      },
      "execution_count": 32,
      "outputs": []
    },
    {
      "cell_type": "code",
      "source": [
        "thread1 = threading.Thread(target=prescript, args=('f1.txt',5))\n",
        "thread2 = threading.Thread( target=prescript, args=('f2.txt',10))"
      ],
      "metadata": {
        "id": "Sywabx9c6Sje"
      },
      "execution_count": 35,
      "outputs": []
    },
    {
      "cell_type": "code",
      "source": [
        "thread1.start()\n",
        "thread2.start()\n",
        "thread1.join()\n",
        "thread2.join()"
      ],
      "metadata": {
        "id": "Ugmo4_9mAG86"
      },
      "execution_count": 36,
      "outputs": []
    },
    {
      "cell_type": "code",
      "source": [],
      "metadata": {
        "id": "IraByehKuUK7"
      },
      "execution_count": null,
      "outputs": []
    },
    {
      "cell_type": "markdown",
      "source": [
        "# Новый раздел"
      ],
      "metadata": {
        "id": "RfGFg3sj-2JK"
      }
    },
    {
      "cell_type": "code",
      "source": [],
      "metadata": {
        "id": "ccKFHEin6So6"
      },
      "execution_count": null,
      "outputs": []
    }
  ]
}
{
  "nbformat": 4,
  "nbformat_minor": 0,
  "metadata": {
    "colab": {
      "provenance": [],
      "authorship_tag": "ABX9TyPBFwY3C0UjYD5f5BCdjfp+",
      "include_colab_link": true
    },
    "kernelspec": {
      "name": "python3",
      "display_name": "Python 3"
    },
    "language_info": {
      "name": "python"
    }
  },
  "cells": [
    {
      "cell_type": "markdown",
      "metadata": {
        "id": "view-in-github",
        "colab_type": "text"
      },
      "source": [
        "<a href=\"https://colab.research.google.com/github/mortvvnutri/Mandrykin_C-_/blob/main/PZ_4/parser_weather.ipynb\" target=\"_parent\"><img src=\"https://colab.research.google.com/assets/colab-badge.svg\" alt=\"Open In Colab\"/></a>"
      ]
    },
    {
      "cell_type": "code",
      "source": [
        "!pip install bs4\n"
      ],
      "metadata": {
        "id": "9yEsXprgpMTL"
      },
      "execution_count": null,
      "outputs": []
    },
    {
      "cell_type": "code",
      "source": [
        "from bs4 import BeautifulSoup\n",
        "import requests"
      ],
      "metadata": {
        "id": "6xXNtPHbpHz6"
      },
      "execution_count": 8,
      "outputs": []
    },
    {
      "cell_type": "code",
      "source": [
        "\n",
        "url = 'https://yandex.com.am/weather/?lat=47.22171021&lon=39.73206329'\n",
        "response = requests.get(url)\n",
        "print('Погода в Ростове-на-Дону')\n",
        "bs = BeautifulSoup(response.text,'lxml')\n",
        "temp = bs.find('span', 'temp__value temp__value_with-unit')\n",
        "met = bs.find('div', 'link__condition day-anchor i-bem')\n",
        "vet = bs.find('span', 'wind-speed')\n",
        "vete = bs.find('abbr', \"icon-abbr\")\n",
        "print('Температура: ', temp.text, '°C')\n",
        "print('Метеоусловия: ', met.text)\n",
        "print('Ветер: ', vet.text, 'м/с,', vete.text)\n"
      ],
      "metadata": {
        "colab": {
          "base_uri": "https://localhost:8080/"
        },
        "id": "iliaVd2BpDKW",
        "outputId": "5d048747-8ae5-40a1-fc1b-1f0cc6e085c6"
      },
      "execution_count": 86,
      "outputs": [
        {
          "output_type": "stream",
          "name": "stdout",
          "text": [
            "Погода в Ростове-на-Дону\n",
            "Температура:  +6 °C\n",
            "Метеоусловия:  Пасмурно\n",
            "Ветер:  5,1 м/с, В\n"
          ]
        }
      ]
    }
  ]
}
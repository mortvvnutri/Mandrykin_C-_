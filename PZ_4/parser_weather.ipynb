{
  "nbformat": 4,
  "nbformat_minor": 0,
  "metadata": {
    "colab": {
      "provenance": [],
      "authorship_tag": "ABX9TyNKUeS5KwPtEKdiisU20dLa",
      "include_colab_link": true
    },
    "kernelspec": {
      "name": "python3",
      "display_name": "Python 3"
    },
    "language_info": {
      "name": "python"
    }
  },
  "cells": [
    {
      "cell_type": "markdown",
      "metadata": {
        "id": "view-in-github",
        "colab_type": "text"
      },
      "source": [
        "<a href=\"https://colab.research.google.com/github/mortvvnutri/Mandrykin_C-_/blob/main/PZ_4/parser_weather.ipynb\" target=\"_parent\"><img src=\"https://colab.research.google.com/assets/colab-badge.svg\" alt=\"Open In Colab\"/></a>"
      ]
    },
    {
      "cell_type": "code",
      "source": [
        "!pip install bs4\n"
      ],
      "metadata": {
        "id": "9yEsXprgpMTL"
      },
      "execution_count": null,
      "outputs": []
    },
    {
      "cell_type": "code",
      "source": [
        "from bs4 import BeautifulSoup\n",
        "import requests"
      ],
      "metadata": {
        "id": "6xXNtPHbpHz6"
      },
      "execution_count": null,
      "outputs": []
    },
    {
      "cell_type": "code",
      "source": [
        "\n",
        "url = 'https://yandex.com.am/weather/?lat=47.22171021&lon=39.73206329'#сюда можно вставить url любого места\n",
        "response = requests.get(url)\n",
        "bs = BeautifulSoup(response.text,'lxml')\n",
        "gor = bs.find('h1', 'title title_level_1 header-title__title')\n",
        "temp = bs.find('span', 'temp__value temp__value_with-unit')\n",
        "met = bs.find('div', 'link__condition day-anchor i-bem')\n",
        "vet = bs.find('span', 'wind-speed')\n",
        "vete = bs.find('abbr', \"icon-abbr\")\n",
        "print('Погода в ', gor.text)\n",
        "print('Температура: ', temp.text, '°C')\n",
        "print('Метеоусловия: ', met.text)\n",
        "print('Ветер: ', vet.text, 'м/с,', vete.text)\n"
      ],
      "metadata": {
        "colab": {
          "base_uri": "https://localhost:8080/"
        },
        "id": "iliaVd2BpDKW",
        "outputId": "08a59089-16ef-4696-a574-96ae10528d03"
      },
      "execution_count": 89,
      "outputs": [
        {
          "output_type": "stream",
          "name": "stdout",
          "text": [
            "Погода в  Богатяновка, Ростов-на-Дону\n",
            "Температура:  +6 °C\n",
            "Метеоусловия:  Пасмурно\n",
            "Ветер:  5,3 м/с, В\n"
          ]
        }
      ]
    }
  ]
}
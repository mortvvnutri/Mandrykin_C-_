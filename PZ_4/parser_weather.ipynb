{
  "nbformat": 4,
  "nbformat_minor": 0,
  "metadata": {
    "colab": {
      "provenance": [],
      "authorship_tag": "ABX9TyO4APN2IFkA3C9uolnJQCNE",
      "include_colab_link": true
    },
    "kernelspec": {
      "name": "python3",
      "display_name": "Python 3"
    },
    "language_info": {
      "name": "python"
    }
  },
  "cells": [
    {
      "cell_type": "markdown",
      "metadata": {
        "id": "view-in-github",
        "colab_type": "text"
      },
      "source": [
        "<a href=\"https://colab.research.google.com/github/mortvvnutri/Mandrykin_C-_/blob/main/PZ_4/parser_weather.ipynb\" target=\"_parent\"><img src=\"https://colab.research.google.com/assets/colab-badge.svg\" alt=\"Open In Colab\"/></a>"
      ]
    },
    {
      "cell_type": "code",
      "source": [
        "!pip install bs4\n"
      ],
      "metadata": {
        "id": "9yEsXprgpMTL"
      },
      "execution_count": null,
      "outputs": []
    },
    {
      "cell_type": "code",
      "source": [
        "from bs import BeautifulSoup\n",
        "import requests"
      ],
      "metadata": {
        "id": "6xXNtPHbpHz6"
      },
      "execution_count": null,
      "outputs": []
    },
    {
      "cell_type": "code",
      "source": [
        "\n",
        "url = 'https://yandex.com.am/weather/?lat=47.22171021&lon=39.73206329'\n",
        "response = requests.get(url)\n",
        "\n",
        "bs = BeautifulSoup(response.text,\"lxml\")\n",
        "temp = bs.find('span', 'temp__value temp__value_with-unit')\n",
        "print(temp.text)"
      ],
      "metadata": {
        "colab": {
          "base_uri": "https://localhost:8080/"
        },
        "id": "iliaVd2BpDKW",
        "outputId": "78f6bfe3-88fb-4b28-bb75-aba0389f0b72"
      },
      "execution_count": 57,
      "outputs": [
        {
          "output_type": "stream",
          "name": "stdout",
          "text": [
            "+7\n"
          ]
        }
      ]
    }
  ]
}
{
  "nbformat": 4,
  "nbformat_minor": 0,
  "metadata": {
    "colab": {
      "provenance": [],
      "collapsed_sections": [],
      "authorship_tag": "ABX9TyMmC8/XEgdAOyGBmOda6iTu",
      "include_colab_link": true
    },
    "kernelspec": {
      "name": "python3",
      "display_name": "Python 3"
    },
    "language_info": {
      "name": "python"
    }
  },
  "cells": [
    {
      "cell_type": "markdown",
      "metadata": {
        "id": "view-in-github",
        "colab_type": "text"
      },
      "source": [
        "<a href=\"https://colab.research.google.com/github/mortvvnutri/Mandrykin_C-_/blob/main/PZ_3/PZ3.ipynb\" target=\"_parent\"><img src=\"https://colab.research.google.com/assets/colab-badge.svg\" alt=\"Open In Colab\"/></a>"
      ]
    },
    {
      "cell_type": "code",
      "execution_count": 3,
      "metadata": {
        "id": "Vd0INyJw68no"
      },
      "outputs": [],
      "source": [
        "from PIL import Image\n",
        "from PIL import ImageDraw"
      ]
    },
    {
      "cell_type": "code",
      "source": [
        "width = 400\n",
        "height = 300\n",
        "\n",
        "image = Image.new(\"RGB\", (width, height))\n",
        "\n",
        "draw = ImageDraw.Draw(image)\n"
      ],
      "metadata": {
        "id": "WQw8s9D78EtJ"
      },
      "execution_count": 4,
      "outputs": []
    },
    {
      "cell_type": "code",
      "source": [
        "draw.rectangle((20, 20, 50, 100), fill=(\"lime\"))\n",
        "draw.rectangle((120, 120, 300, 250), outline=(\"aqua\"), width=5)\n",
        "image.save(\"draw.png\", \"PNG\")"
      ],
      "metadata": {
        "id": "tcFcPRJw77J6"
      },
      "execution_count": 5,
      "outputs": []
    },
    {
      "cell_type": "code",
      "source": [
        "draw.ellipse((200, 20, 250, 100), outline=(\"#660066\"), width=5)\n",
        "draw.ellipse((140, 140, 220, 220), fill=(\"#003D55\"))\n",
        "image.save(\"draw.png\")"
      ],
      "metadata": {
        "id": "CA7UUca3Bfl_"
      },
      "execution_count": 6,
      "outputs": []
    },
    {
      "cell_type": "code",
      "source": [
        "draw.text((100,100), 'Text')\n",
        "image.save(\"draw.png\")"
      ],
      "metadata": {
        "id": "cp0esuOmC-mv"
      },
      "execution_count": 7,
      "outputs": []
    }
  ]
}